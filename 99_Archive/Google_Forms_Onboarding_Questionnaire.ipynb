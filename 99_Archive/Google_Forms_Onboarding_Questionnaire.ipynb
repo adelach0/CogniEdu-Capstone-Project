{
 "cells": [
  {
   "cell_type": "markdown",
   "id": "98a283d3-8009-44e1-a996-5a8b03fb4f0a",
   "metadata": {
    "tags": []
   },
   "source": [
    "# Google Forms API - Onboarding Questionnaire"
   ]
  },
  {
   "cell_type": "code",
   "execution_count": 1,
   "id": "82692617-244e-4f89-9cf1-6d71bc7b110f",
   "metadata": {},
   "outputs": [],
   "source": [
    "#%pip install google-api-python-client\n",
    "#%pip install gspread"
   ]
  },
  {
   "cell_type": "markdown",
   "id": "4f42db0a-75a9-4822-b4ce-ca65dc818cd4",
   "metadata": {},
   "source": [
    "### Libraries"
   ]
  },
  {
   "cell_type": "code",
   "execution_count": 2,
   "id": "f6119062-61f3-41f0-a3ba-76b97fb15125",
   "metadata": {},
   "outputs": [],
   "source": [
    "import json\n",
    "import vertexai\n",
    "from google.cloud import storage\n",
    "from googleapiclient.discovery import build\n",
    "from google.oauth2 import service_account\n",
    "import os\n",
    "from dotenv import load_dotenv"
   ]
  },
  {
   "cell_type": "markdown",
   "id": "c4e64140-0fe1-4457-9ebf-eae34ba64b75",
   "metadata": {},
   "source": [
    "### Google Forms"
   ]
  },
  {
   "cell_type": "code",
   "execution_count": 3,
   "id": "ac5c0955-bc52-4993-b1fe-ed78c5aad4f4",
   "metadata": {},
   "outputs": [],
   "source": [
    "# Load Credentials From A Service Account JSON File\n",
    "credentials = service_account.Credentials.from_service_account_file('/home/jupyter/3. Onboarding Experience/serviceaccount.json')"
   ]
  },
  {
   "cell_type": "code",
   "execution_count": 4,
   "id": "ee277a01-26ed-4f05-bffc-4acb653ae22b",
   "metadata": {},
   "outputs": [],
   "source": [
    "# Define API Version and Service Name\n",
    "api_version = 'v1'\n",
    "service_name = 'forms'"
   ]
  },
  {
   "cell_type": "code",
   "execution_count": 5,
   "id": "054b0ab1-a962-420a-92ee-54a3e67ddeae",
   "metadata": {},
   "outputs": [],
   "source": [
    "# Service Object for Interacting with the Google Forms API\n",
    "service = build(service_name, api_version, credentials=credentials)"
   ]
  },
  {
   "cell_type": "code",
   "execution_count": 6,
   "id": "2126284d-bea9-4c5c-af44-695103cedc9e",
   "metadata": {
    "tags": []
   },
   "outputs": [],
   "source": [
    "form = {\n",
    "    \"info\": {\n",
    "        \"title\": \"Profile Creation with CogniEdu\"\n",
    "    },\n",
    "}"
   ]
  },
  {
   "cell_type": "code",
   "execution_count": 7,
   "id": "30029489-f84c-47b0-a5c2-3e22c30c22bf",
   "metadata": {
    "tags": []
   },
   "outputs": [],
   "source": [
    "NEW_QUESTION = {\n",
    "    \"requests\": [\n",
    "        {\n",
    "            \"createItem\": {\n",
    "                \"item\": {\n",
    "                    \"title\": \"Question 1: How intense would you like your study plan to be, considering your daily commitments and learning goals?\",\n",
    "                    \"questionItem\": {\n",
    "                        \"question\": {\n",
    "                            \"choiceQuestion\": {\n",
    "                                \"type\": \"RADIO\",\n",
    "                                \"options\": [\n",
    "                                    {\"value\": \"Casual (I am not on a strict time-crunch, I want to slowly get into learning the material)\"},\n",
    "                                    {\"value\": \"Standard (I have assignments to complete and material to learn, I have things deadlines I want to meet)\"},\n",
    "                                    {\"value\": \"High Impact (I am on a time-crunch and want to follow the most efficient studying strategies I can)\"}\n",
    "                                ]\n",
    "                            },\n",
    "                            \"required\": True\n",
    "                        }\n",
    "                    }\n",
    "                },\n",
    "                \"location\": {\"index\": 0}\n",
    "            }\n",
    "        },\n",
    "        {\n",
    "            \"createItem\": {\n",
    "                \"item\": {\n",
    "                    \"title\": \"Question 2: What is your preferred studying time during WEEKDAYS?\",\n",
    "                    \"questionItem\": {\n",
    "                        \"question\": {\n",
    "                            \"choiceQuestion\": {\n",
    "                                \"type\": \"RADIO\",\n",
    "                                \"options\": [\n",
    "                                    {\"value\": \"Morning (~6am-11am)\"},\n",
    "                                    {\"value\": \"Afternoons (11am-5pm)\"},\n",
    "                                    {\"value\": \"Night (6pm-10pm)\"},\n",
    "                                    {\"value\": \"Midnight (10pm-3am)\"},\n",
    "                                    {\"value\": \"No studying on the weekdays\"}\n",
    "                                ]\n",
    "                            },\n",
    "                            \"required\": True\n",
    "                        }\n",
    "                    }\n",
    "                },\n",
    "                \"location\": {\"index\": 1}\n",
    "            }\n",
    "        },\n",
    "        {\n",
    "            \"createItem\": {\n",
    "                \"item\": {\n",
    "                    \"title\": \"Question 3: What is your preferred studying time during WEEKENDS?\",\n",
    "                    \"questionItem\": {\n",
    "                        \"question\": {\n",
    "                            \"choiceQuestion\": {\n",
    "                                \"type\": \"RADIO\",\n",
    "                                \"options\": [\n",
    "                                    {\"value\": \"Morning (~6am-11am)\"},\n",
    "                                    {\"value\": \"Afternoons (11am-5pm)\"},\n",
    "                                    {\"value\": \"Night (6pm-10pm)\"},\n",
    "                                    {\"value\": \"Midnight (10pm-3am)\"},\n",
    "                                    {\"value\": \"No studying on the weekends\"}\n",
    "                                ]\n",
    "                            },\n",
    "                            \"required\": True\n",
    "                        }\n",
    "                    }\n",
    "                },\n",
    "                \"location\": {\"index\": 2}\n",
    "            }\n",
    "        },\n",
    "        {\n",
    "            \"createItem\": {\n",
    "                \"item\": {\n",
    "                    \"title\": \"Question 4: How would you prefer your study sessions?\",\n",
    "                    \"questionItem\": {\n",
    "                        \"question\": {\n",
    "                            \"choiceQuestion\": {\n",
    "                                \"type\": \"RADIO\",\n",
    "                                \"options\": [\n",
    "                                    {\"value\": \"Segmented (ideal for students with several breaks between scheduled appointments)\"},\n",
    "                                    {\"value\": \"Chunks (ideal for students with a packed schedule and then large chunks of free time)\"}\n",
    "                                ]\n",
    "                            },\n",
    "                            \"required\": True\n",
    "                        }\n",
    "                    }\n",
    "                },\n",
    "                \"location\": {\"index\": 3}\n",
    "            }\n",
    "        },\n",
    "        {\n",
    "            \"createItem\": {\n",
    "                \"item\": {\n",
    "                    \"title\": \"Question 5: What are the challenges you face when studying? (Why do you need CogniBot’s assistance?)\",\n",
    "                    \"questionItem\": {\n",
    "                        \"question\": {\n",
    "                            \"textQuestion\": {},\n",
    "                            \"required\": True\n",
    "                        }\n",
    "                    }\n",
    "                },\n",
    "                \"location\": {\"index\": 4}\n",
    "            }\n",
    "        },\n",
    "        {\n",
    "            \"createItem\": {\n",
    "                \"item\": {\n",
    "                    \"title\": \"Question 6: What motivates you to study?\",\n",
    "                    \"questionItem\": {\n",
    "                        \"question\": {\n",
    "                            \"choiceQuestion\": {\n",
    "                                \"type\": \"RADIO\",\n",
    "                                \"options\": [\n",
    "                                    {\"value\": \"Higher Education\"},\n",
    "                                    {\"value\": \"Personal Growth\"},\n",
    "                                    {\"value\": \"Social Competition\"},\n",
    "                                    {\"value\": \"Requirement\"}\n",
    "                                ]\n",
    "                            },\n",
    "                            \"required\": True\n",
    "                        }\n",
    "                    }\n",
    "                },\n",
    "                \"location\": {\"index\": 5}\n",
    "            }\n",
    "        },\n",
    "        {\n",
    "            \"createItem\": {\n",
    "                \"item\": {\n",
    "                    \"title\": \"Question 7: When do you start your day on the weekdays?\",\n",
    "                    \"questionItem\": {\n",
    "                        \"question\": {\n",
    "                            \"timeQuestion\": {},\n",
    "                            \"required\": True\n",
    "                        }\n",
    "                    }\n",
    "                },\n",
    "                \"location\": {\"index\": 6}\n",
    "            }\n",
    "        },\n",
    "        {\n",
    "            \"createItem\": {\n",
    "                \"item\": {\n",
    "                    \"title\": \"Question 8: When do you end your day on the weekdays?\",\n",
    "                    \"questionItem\": {\n",
    "                        \"question\": {\n",
    "                            \"timeQuestion\": {},\n",
    "                            \"required\": True\n",
    "                        }\n",
    "                    }\n",
    "                },\n",
    "                \"location\": {\"index\": 7}\n",
    "            }\n",
    "        },\n",
    "        {\n",
    "            \"createItem\": {\n",
    "                \"item\": {\n",
    "                    \"title\": \"Question 9: When do you start your day on the weekends?\",\n",
    "                    \"questionItem\": {\n",
    "                        \"question\": {\n",
    "                            \"timeQuestion\": {},\n",
    "                            \"required\": True\n",
    "                        }\n",
    "                    }\n",
    "                },\n",
    "                \"location\": {\"index\": 8}\n",
    "            }\n",
    "        },\n",
    "        {\n",
    "            \"createItem\": {\n",
    "                \"item\": {\n",
    "                    \"title\": \"Question 10: When do you end your day on the weekends?\",\n",
    "                    \"questionItem\": {\n",
    "                        \"question\": {\n",
    "                            \"timeQuestion\": {},\n",
    "                            \"required\": True\n",
    "                        }\n",
    "                    }\n",
    "                },\n",
    "                \"location\": {\"index\": 9}\n",
    "            }\n",
    "        },\n",
    "        {\n",
    "            \"createItem\": {\n",
    "                \"item\": {\n",
    "                    \"title\": \"Question 11: Please list the title of the courses you are taking this semester/quarter\",\n",
    "                    \"questionItem\": {\n",
    "                        \"question\": {\n",
    "                            \"textQuestion\": {},\n",
    "                            \"required\": True\n",
    "                        }\n",
    "                    }\n",
    "                },\n",
    "                \"location\": {\"index\": 10}\n",
    "            }\n",
    "        }\n",
    "    ]\n",
    "}"
   ]
  },
  {
   "cell_type": "code",
   "execution_count": 8,
   "id": "4d3c4248-67a7-43e1-b5c6-0c4086dc40ad",
   "metadata": {
    "tags": []
   },
   "outputs": [],
   "source": [
    "result = service.forms().create(body=form).execute()"
   ]
  },
  {
   "cell_type": "code",
   "execution_count": 9,
   "id": "94b7557e-5cb9-4859-a048-7ad517c098e2",
   "metadata": {
    "tags": []
   },
   "outputs": [],
   "source": [
    "question_setting = (\n",
    "    service.forms()\n",
    "    .batchUpdate(formId=result[\"formId\"], body=NEW_QUESTION)\n",
    "    .execute()\n",
    ")"
   ]
  },
  {
   "cell_type": "code",
   "execution_count": 10,
   "id": "fa62507f-09f3-47b3-b2ea-4b85dacbfc1c",
   "metadata": {
    "tags": []
   },
   "outputs": [],
   "source": [
    "get_result = service.forms().get(formId=result[\"formId\"]).execute()\n",
    "#print(get_result)"
   ]
  },
  {
   "cell_type": "code",
   "execution_count": 11,
   "id": "2509c9f1-3cb6-4b94-b792-7ce9d28993de",
   "metadata": {},
   "outputs": [],
   "source": [
    "# Form URL Generated From Response\n",
    "form_url = get_result['responderUri']\n",
    "#print('Form URL:', form_url)"
   ]
  },
  {
   "cell_type": "markdown",
   "id": "f86e5a08-437b-4f44-b02c-4ee389dbb324",
   "metadata": {},
   "source": [
    "### Google Forms Responses"
   ]
  },
  {
   "cell_type": "code",
   "execution_count": 12,
   "id": "3d0e980e-193b-4d03-9792-018c903b20db",
   "metadata": {
    "tags": []
   },
   "outputs": [],
   "source": [
    "response = service.forms().responses().list(formId=result[\"formId\"]).execute()\n",
    "#print(response)"
   ]
  },
  {
   "cell_type": "markdown",
   "id": "c7b80931-248d-4f8b-bbec-4d922aef6a01",
   "metadata": {},
   "source": [
    "### Create JSON Files for Each User & Load into GCS Bucket"
   ]
  },
  {
   "cell_type": "code",
   "execution_count": 13,
   "id": "e6f6052a-8a9b-43a5-b3c3-ee3a8db68afb",
   "metadata": {
    "tags": []
   },
   "outputs": [],
   "source": [
    "load_dotenv()\n",
    "\n",
    "PROJECT_ID = os.getenv('PROJECT_ID')\n",
    "LOCATION = os.getenv('LOCATION')\n",
    "\n",
    "vertexai.init(project=PROJECT_ID, location=LOCATION)\n",
    "\n",
    "BUCKET = os.getenv('BUCKET')"
   ]
  },
  {
   "cell_type": "code",
   "execution_count": 14,
   "id": "cc7c385f-18c9-4709-98ee-ee99485a8625",
   "metadata": {
    "tags": []
   },
   "outputs": [],
   "source": [
    "client = storage.Client(project=PROJECT_ID)\n",
    "bucket = client.bucket(BUCKET)"
   ]
  },
  {
   "cell_type": "code",
   "execution_count": 15,
   "id": "9a948c25-28e7-4209-a78f-29040dc00e1b",
   "metadata": {
    "tags": []
   },
   "outputs": [],
   "source": [
    "responses = response.get('responses', [])"
   ]
  },
  {
   "cell_type": "code",
   "execution_count": 16,
   "id": "9bca475b-2069-43bc-afdc-bb71ec95e1e5",
   "metadata": {
    "tags": []
   },
   "outputs": [],
   "source": [
    "for response_data in responses:\n",
    "    response_id = response_data['responseId']\n",
    "    \n",
    "    # File Name for JSON File\n",
    "    filename = f\"response_{response_id}.json\"\n",
    "    \n",
    "    # Write Response Data to JSON File\n",
    "    with open(filename, 'w') as json_file:\n",
    "        json.dump(response_data, json_file)\n",
    "\n",
    "    print(f\"Success: JSON File Created\\n\")\n",
    "    \n",
    "    # Path to JSON File in Bucket\n",
    "    blob = bucket.blob(filename)\n",
    "    \n",
    "    # Upload JSON file to Bucket\n",
    "    blob.upload_from_filename(filename)\n",
    "    \n",
    "    print(f\"Success: JSON File Uploaded to GCS Bucket\")"
   ]
  }
 ],
 "metadata": {
  "environment": {
   "kernel": "python3",
   "name": "tf2-cpu.2-11.m119",
   "type": "gcloud",
   "uri": "us-docker.pkg.dev/deeplearning-platform-release/gcr.io/tf2-cpu.2-11:m119"
  },
  "kernelspec": {
   "display_name": "Python 3",
   "language": "python",
   "name": "python3"
  },
  "language_info": {
   "codemirror_mode": {
    "name": "ipython",
    "version": 3
   },
   "file_extension": ".py",
   "mimetype": "text/x-python",
   "name": "python",
   "nbconvert_exporter": "python",
   "pygments_lexer": "ipython3",
   "version": "3.10.14"
  }
 },
 "nbformat": 4,
 "nbformat_minor": 5
}
