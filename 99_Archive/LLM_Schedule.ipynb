{
 "cells": [
  {
   "cell_type": "markdown",
   "id": "0b72e1d1-bafe-4435-89fc-9a1ea9d479e6",
   "metadata": {
    "tags": []
   },
   "source": [
    "# LLM - Schedule"
   ]
  },
  {
   "cell_type": "markdown",
   "id": "9583978c-1810-4abb-9343-6ea014276227",
   "metadata": {
    "tags": []
   },
   "source": [
    "### Setup"
   ]
  },
  {
   "cell_type": "code",
   "execution_count": 1,
   "id": "04fe0ce1-0808-4f3c-95fb-fe11c787ac4b",
   "metadata": {
    "tags": []
   },
   "outputs": [],
   "source": [
    "# %pip list | grep google-cloud-aiplatform\n",
    "# %pip list | grep google-api-core\n",
    "# %pip list | grep chromadb\n",
    "# %pip list | grep langchain\n",
    "# %pip list | grep unstructured"
   ]
  },
  {
   "cell_type": "code",
   "execution_count": 2,
   "id": "6d4fe2db-1e6f-45e9-af60-feeaa568f02d",
   "metadata": {
    "tags": []
   },
   "outputs": [],
   "source": [
    "#%pip install chromadb"
   ]
  },
  {
   "cell_type": "code",
   "execution_count": 3,
   "id": "f6eb7433-da7b-4b40-8947-d805df08a6f3",
   "metadata": {
    "tags": []
   },
   "outputs": [
    {
     "name": "stdout",
     "output_type": "stream",
     "text": [
      "Vertex AI SDK version: 1.59.0\n"
     ]
    }
   ],
   "source": [
    "import os\n",
    "import json\n",
    "import shutil\n",
    "import warnings\n",
    "from dotenv import load_dotenv\n",
    "import pandas as pd\n",
    "\n",
    "# GCS Bucket\n",
    "from google.cloud import storage\n",
    "from google.api_core.exceptions import NotFound\n",
    "\n",
    "# Langchain\n",
    "from langchain.embeddings import VertexAIEmbeddings\n",
    "from langchain.llms import VertexAI\n",
    "from langchain.chains import RetrievalQA\n",
    "from langchain.document_loaders import GCSDirectoryLoader\n",
    "from langchain.memory import ConversationBufferMemory\n",
    "from langchain.chains import RetrievalQA, ConversationalRetrievalChain\n",
    "from langchain.prompts import PromptTemplate\n",
    "\n",
    "# Chroma DB as Vector Store Database\n",
    "from langchain.vectorstores import Chroma\n",
    "\n",
    "# Using Vertex AI\n",
    "import vertexai\n",
    "from google.cloud import aiplatform\n",
    "\n",
    "print(f\"Vertex AI SDK version: {aiplatform.__version__}\")"
   ]
  },
  {
   "cell_type": "code",
   "execution_count": 4,
   "id": "096d6d36-8513-4427-9878-a847ed7491d9",
   "metadata": {
    "tags": []
   },
   "outputs": [],
   "source": [
    "pd.set_option('display.max_colwidth', 120)"
   ]
  },
  {
   "cell_type": "code",
   "execution_count": 5,
   "id": "c4b0ca81-0c0d-47b1-b076-fb09f6c27089",
   "metadata": {
    "tags": []
   },
   "outputs": [],
   "source": [
    "warnings.filterwarnings(\"ignore\", category=DeprecationWarning)\n",
    "warnings.filterwarnings(\"ignore\", message=\".*deprecated.*\", category=UserWarning)"
   ]
  },
  {
   "cell_type": "markdown",
   "id": "895bc19a-9f71-40ab-8803-d390eb0a3c13",
   "metadata": {
    "tags": []
   },
   "source": [
    "### Notebook Environment"
   ]
  },
  {
   "cell_type": "code",
   "execution_count": 6,
   "id": "dd8eb9c9-c00a-4cbf-9afe-535a23dfacd7",
   "metadata": {
    "tags": []
   },
   "outputs": [],
   "source": [
    "load_dotenv()\n",
    "\n",
    "PROJECT_ID = os.getenv('PROJECT_ID')\n",
    "LOCATION = os.getenv('LOCATION')\n",
    "\n",
    "vertexai.init(project=PROJECT_ID, location=LOCATION)\n",
    "\n",
    "BUCKET = os.getenv('BUCKET')"
   ]
  },
  {
   "cell_type": "markdown",
   "id": "65bf1f89-46b6-4723-abbb-e6fbe9da279c",
   "metadata": {},
   "source": [
    "### Create JSON File for Optimization Model Output"
   ]
  },
  {
   "cell_type": "code",
   "execution_count": 7,
   "id": "92d080d9-f791-40a2-a143-bfc28252d6b2",
   "metadata": {
    "tags": []
   },
   "outputs": [
    {
     "name": "stdout",
     "output_type": "stream",
     "text": [
      "Bucket Already Exists\n"
     ]
    }
   ],
   "source": [
    "def create_bucket_if_not_exists(bucket_name, project_id, location):\n",
    "    \n",
    "    # Create Client\n",
    "    storage_client = storage.Client(project=project_id)\n",
    "\n",
    "    # Get Bucket Object\n",
    "    bucket = storage_client.bucket(bucket_name)\n",
    "\n",
    "    try:\n",
    "        # Check if Bucket Exists\n",
    "        storage_client.get_bucket(bucket_name)\n",
    "        print(f\"Bucket Already Exists\")\n",
    "    except NotFound:\n",
    "        # If Not Found, Create the Bucket\n",
    "        bucket.location = location  # Set the Bucket's Location\n",
    "        storage_client.create_bucket(bucket, project=project_id)\n",
    "        print(f\"Bucket Created\")\n",
    "\n",
    "project_id = PROJECT_ID\n",
    "bucket_name = BUCKET\n",
    "location = LOCATION\n",
    "create_bucket_if_not_exists(bucket_name, project_id, location)"
   ]
  },
  {
   "cell_type": "code",
   "execution_count": 8,
   "id": "57de0fb5-8f65-4177-8e46-aedb5ce65122",
   "metadata": {
    "tags": []
   },
   "outputs": [
    {
     "name": "stdout",
     "output_type": "stream",
     "text": [
      "{'response': 'schedule_test.json upload complete'}\n"
     ]
    }
   ],
   "source": [
    "def create_json(json_object, filename, project_id=PROJECT_ID, bucket_name=BUCKET):\n",
    "    '''\n",
    "    This Function Will Create JSON Object In\n",
    "    Google Cloud Storage\n",
    "    '''\n",
    "    client = storage.Client(project=project_id)\n",
    "    bucket = client.bucket(bucket_name)\n",
    "    \n",
    "    # Create Blob\n",
    "    blob = bucket.blob(filename)\n",
    "    \n",
    "    # Upload Blob \n",
    "    blob.upload_from_string(\n",
    "        data=json.dumps(json_object),\n",
    "        content_type='application/json'\n",
    "        )\n",
    "    result = filename + ' upload complete'\n",
    "    return {'response' : result}\n",
    "\n",
    "# JSON Object\n",
    "json_object = [\n",
    "    {\"title\": \"Study Math\", \"date\": \"2023-10-01\", \"time\": \"08:00-08:30\"},\n",
    "    {\"title\": \"Study Biology\", \"date\": \"2023-10-01\", \"time\": \"10:40-11:10\"},\n",
    "    {\"title\": \"Study Physics\", \"date\": \"2023-10-01\", \"time\": \"11:20-11:50\"},\n",
    "    {\"title\": \"Study Chemistry\", \"date\": \"2023-10-01\", \"time\": \"12:00-12:30\"},\n",
    "    {\"title\": \"Study Math\", \"date\": \"2023-10-02\", \"time\": \"08:00-08:30\"},\n",
    "    {\"title\": \"Study Biology\", \"date\": \"2023-10-02\", \"time\": \"08:40-09:10\"},\n",
    "    {\"title\": \"Study Physics\", \"date\": \"2023-10-02\", \"time\": \"09:20-09:50\"},\n",
    "    {\"title\": \"Study Chemistry\", \"date\": \"2023-10-02\", \"time\": \"10:00-10:30\"},\n",
    "    {\"title\": \"Study Math\", \"date\": \"2023-10-03\", \"time\": \"08:00-08:30\"},\n",
    "    {\"title\": \"Study Biology\", \"date\": \"2023-10-03\", \"time\": \"08:40-09:10\"},\n",
    "    {\"title\": \"Study Physics\", \"date\": \"2023-10-03\", \"time\": \"09:20-09:50\"},\n",
    "    {\"title\": \"Study Chemistry\", \"date\": \"2023-10-03\", \"time\": \"10:00-10:30\"},\n",
    "    {\"title\": \"Study Math\", \"date\": \"2023-10-04\", \"time\": \"08:00-08:30\"},\n",
    "    {\"title\": \"Study Biology\", \"date\": \"2023-10-04\", \"time\": \"08:40-09:10\"},\n",
    "    {\"title\": \"Study Physics\", \"date\": \"2023-10-04\", \"time\": \"09:20-09:50\"},\n",
    "    {\"title\": \"Study Chemistry\", \"date\": \"2023-10-04\", \"time\": \"11:40-12:10\"},\n",
    "    {\"title\": \"Study Math\", \"date\": \"2023-10-05\", \"time\": \"08:00-08:30\"},\n",
    "    {\"title\": \"Study Biology\", \"date\": \"2023-10-05\", \"time\": \"08:40-09:10\"},\n",
    "    {\"title\": \"Study Physics\", \"date\": \"2023-10-05\", \"time\": \"09:20-09:50\"},\n",
    "    {\"title\": \"Study Chemistry\", \"date\": \"2023-10-05\", \"time\": \"10:00-10:30\"},\n",
    "    {\"title\": \"Study Computer Science\", \"date\": \"2023-10-06\", \"time\": \"09:40-10:10\"},\n",
    "    {\"title\": \"Study English\", \"date\": \"2023-10-06\", \"time\": \"10:20-10:50\"},\n",
    "    {\"title\": \"Study History\", \"date\": \"2023-10-06\", \"time\": \"11:00-11:30\"},\n",
    "    {\"title\": \"Study Psychology\", \"date\": \"2023-10-06\", \"time\": \"11:40-12:10\"},\n",
    "    {\"title\": \"Study Math\", \"date\": \"2023-10-07\", \"time\": \"08:00-08:30\"},\n",
    "    {\"title\": \"Study Biology\", \"date\": \"2023-10-07\", \"time\": \"08:40-09:10\"},\n",
    "    {\"title\": \"Study Physics\", \"date\": \"2023-10-07\", \"time\": \"09:20-09:50\"},\n",
    "    {\"title\": \"Study Chemistry\", \"date\": \"2023-10-07\", \"time\": \"10:00-10:30\"}\n",
    "]\n",
    "\n",
    "# Insert Events Between Study Sessions\n",
    "def insert_events(schedule):\n",
    "    updated_schedule = []\n",
    "    prev_end_time = \"08:00\"  # Starting time\n",
    "    for event in schedule:\n",
    "        start_time = event[\"time\"].split(\"-\")[0]\n",
    "        if start_time > prev_end_time:\n",
    "            updated_schedule.append({\"title\": \"Meeting\", \"date\": event[\"date\"], \"time\": f\"{prev_end_time}-{start_time}\"})\n",
    "        updated_schedule.append(event)\n",
    "        prev_end_time = event[\"time\"].split(\"-\")[1]\n",
    "    return updated_schedule\n",
    "\n",
    "# Add Events Between Study Sessions\n",
    "updated_schedule_data = insert_events(json_object)\n",
    "\n",
    "# Convert Schedule Data to JSON Format\n",
    "json_data = json.dumps(updated_schedule_data, indent=4)\n",
    "\n",
    "# Write JSON Data to A File\n",
    "with open(\"schedule_with_events.json\", \"w\") as json_file:\n",
    "    json_file.write(json_data)\n",
    "\n",
    "# Set File Name for JSON Object\n",
    "filename = 'schedule_test.json'\n",
    "\n",
    "# Run the Function and Pass the JSON Object\n",
    "print(create_json(json_object, filename))"
   ]
  },
  {
   "cell_type": "markdown",
   "id": "e3d595b9-e86a-4504-a3cd-ed8e51c5ed21",
   "metadata": {},
   "source": [
    "### Load JSON File From GCS Bucket"
   ]
  },
  {
   "cell_type": "code",
   "execution_count": 9,
   "id": "d2dd9001-3101-4229-a0d2-bfbc580c4307",
   "metadata": {
    "tags": []
   },
   "outputs": [
    {
     "name": "stdout",
     "output_type": "stream",
     "text": [
      "[{'title': 'Study Math', 'date': '2023-10-01', 'time': '08:00-08:30'}, {'title': 'Study Biology', 'date': '2023-10-01', 'time': '10:40-11:10'}, {'title': 'Study Physics', 'date': '2023-10-01', 'time': '11:20-11:50'}, {'title': 'Study Chemistry', 'date': '2023-10-01', 'time': '12:00-12:30'}, {'title': 'Study Math', 'date': '2023-10-02', 'time': '08:00-08:30'}, {'title': 'Study Biology', 'date': '2023-10-02', 'time': '08:40-09:10'}, {'title': 'Study Physics', 'date': '2023-10-02', 'time': '09:20-09:50'}, {'title': 'Study Chemistry', 'date': '2023-10-02', 'time': '10:00-10:30'}, {'title': 'Study Math', 'date': '2023-10-03', 'time': '08:00-08:30'}, {'title': 'Study Biology', 'date': '2023-10-03', 'time': '08:40-09:10'}, {'title': 'Study Physics', 'date': '2023-10-03', 'time': '09:20-09:50'}, {'title': 'Study Chemistry', 'date': '2023-10-03', 'time': '10:00-10:30'}, {'title': 'Study Math', 'date': '2023-10-04', 'time': '08:00-08:30'}, {'title': 'Study Biology', 'date': '2023-10-04', 'time': '08:40-09:10'}, {'title': 'Study Physics', 'date': '2023-10-04', 'time': '09:20-09:50'}, {'title': 'Study Chemistry', 'date': '2023-10-04', 'time': '11:40-12:10'}, {'title': 'Study Math', 'date': '2023-10-05', 'time': '08:00-08:30'}, {'title': 'Study Biology', 'date': '2023-10-05', 'time': '08:40-09:10'}, {'title': 'Study Physics', 'date': '2023-10-05', 'time': '09:20-09:50'}, {'title': 'Study Chemistry', 'date': '2023-10-05', 'time': '10:00-10:30'}, {'title': 'Study Computer Science', 'date': '2023-10-06', 'time': '09:40-10:10'}, {'title': 'Study English', 'date': '2023-10-06', 'time': '10:20-10:50'}, {'title': 'Study History', 'date': '2023-10-06', 'time': '11:00-11:30'}, {'title': 'Study Psychology', 'date': '2023-10-06', 'time': '11:40-12:10'}, {'title': 'Study Math', 'date': '2023-10-07', 'time': '08:00-08:30'}, {'title': 'Study Biology', 'date': '2023-10-07', 'time': '08:40-09:10'}, {'title': 'Study Physics', 'date': '2023-10-07', 'time': '09:20-09:50'}, {'title': 'Study Chemistry', 'date': '2023-10-07', 'time': '10:00-10:30'}]\n"
     ]
    }
   ],
   "source": [
    "def load_json_from_bucket(bucket_name, filename, project_id):\n",
    "\n",
    "    # Create Client\n",
    "    storage_client = storage.Client(project=project_id)\n",
    "    \n",
    "    # Get Bucket Object\n",
    "    bucket = storage_client.bucket(bucket_name)\n",
    "    \n",
    "    # Get Blob Object\n",
    "    blob = bucket.blob(filename)\n",
    "    \n",
    "    # Download the JSON File\n",
    "    json_data = json.loads(blob.download_as_string())\n",
    "    \n",
    "    return json_data\n",
    "\n",
    "project_id = PROJECT_ID\n",
    "bucket_name = BUCKET\n",
    "\n",
    "filename = \"schedule_test.json\"\n",
    "\n",
    "# Load JSON file From GCS Bucket\n",
    "json_data = load_json_from_bucket(bucket_name, filename, project_id)\n",
    "\n",
    "# Print Loaded JSON Data\n",
    "print(json_data)"
   ]
  },
  {
   "cell_type": "markdown",
   "id": "b4d66484-c8ff-4355-9647-6c65c802380f",
   "metadata": {},
   "source": [
    "### JSON File Prep"
   ]
  },
  {
   "cell_type": "code",
   "execution_count": 10,
   "id": "db87105a-c39f-4a06-9b59-28b88ab0b008",
   "metadata": {
    "tags": []
   },
   "outputs": [
    {
     "name": "stderr",
     "output_type": "stream",
     "text": [
      "Model_name will become a required arg for VertexAIEmbeddings starting from Feb-01-2024. Currently the default is set to textembedding-gecko@001\n"
     ]
    },
    {
     "name": "stdout",
     "output_type": "stream",
     "text": [
      "project=None location='us-central1' request_parallelism=5 max_retries=6 stop=None model_name='textembedding-gecko@001' client=<vertexai.language_models.TextEmbeddingModel object at 0x7f09e9a06d40> client_preview=None temperature=0.0 max_output_tokens=128 top_p=0.95 top_k=40 credentials=None n=1 streaming=False instance={'max_batch_size': 250, 'batch_size': 250, 'min_batch_size': 5, 'min_good_batch_size': 5, 'lock': <unlocked _thread.lock object at 0x7f09e9c47900>, 'batch_size_validated': False, 'task_executor': <concurrent.futures.thread.ThreadPoolExecutor object at 0x7f09e9bfee30>, 'embeddings_task_type_supported': False} show_progress_bar=False\n"
     ]
    }
   ],
   "source": [
    "# Define Text Embeddings Model\n",
    "embeddings = VertexAIEmbeddings()\n",
    "\n",
    "print(embeddings)"
   ]
  },
  {
   "cell_type": "code",
   "execution_count": 11,
   "id": "6eb0639b-fc5f-4e1b-b141-b0d038103cee",
   "metadata": {
    "tags": []
   },
   "outputs": [
    {
     "name": "stdout",
     "output_type": "stream",
     "text": [
      "On 2023-10-01, Study Math is scheduled from 08:00-08:30.\n",
      "On 2023-10-01, Study Biology is scheduled from 10:40-11:10.\n",
      "On 2023-10-01, Study Physics is scheduled from 11:20-11:50.\n",
      "On 2023-10-01, Study Chemistry is scheduled from 12:00-12:30.\n",
      "On 2023-10-02, Study Math is scheduled from 08:00-08:30.\n",
      "On 2023-10-02, Study Biology is scheduled from 08:40-09:10.\n",
      "On 2023-10-02, Study Physics is scheduled from 09:20-09:50.\n",
      "On 2023-10-02, Study Chemistry is scheduled from 10:00-10:30.\n",
      "On 2023-10-03, Study Math is scheduled from 08:00-08:30.\n",
      "On 2023-10-03, Study Biology is scheduled from 08:40-09:10.\n",
      "On 2023-10-03, Study Physics is scheduled from 09:20-09:50.\n",
      "On 2023-10-03, Study Chemistry is scheduled from 10:00-10:30.\n",
      "On 2023-10-04, Study Math is scheduled from 08:00-08:30.\n",
      "On 2023-10-04, Study Biology is scheduled from 08:40-09:10.\n",
      "On 2023-10-04, Study Physics is scheduled from 09:20-09:50.\n",
      "On 2023-10-04, Study Chemistry is scheduled from 11:40-12:10.\n",
      "On 2023-10-05, Study Math is scheduled from 08:00-08:30.\n",
      "On 2023-10-05, Study Biology is scheduled from 08:40-09:10.\n",
      "On 2023-10-05, Study Physics is scheduled from 09:20-09:50.\n",
      "On 2023-10-05, Study Chemistry is scheduled from 10:00-10:30.\n",
      "On 2023-10-06, Study Computer Science is scheduled from 09:40-10:10.\n",
      "On 2023-10-06, Study English is scheduled from 10:20-10:50.\n",
      "On 2023-10-06, Study History is scheduled from 11:00-11:30.\n",
      "On 2023-10-06, Study Psychology is scheduled from 11:40-12:10.\n",
      "On 2023-10-07, Study Math is scheduled from 08:00-08:30.\n",
      "On 2023-10-07, Study Biology is scheduled from 08:40-09:10.\n",
      "On 2023-10-07, Study Physics is scheduled from 09:20-09:50.\n",
      "On 2023-10-07, Study Chemistry is scheduled from 10:00-10:30.\n",
      "\n"
     ]
    }
   ],
   "source": [
    "def json_to_text(data):\n",
    "    \"\"\"Convert a list of dictionaries to a human-readable string format.\"\"\"\n",
    "    text_output = \"\"\n",
    "    for entry in data:\n",
    "        event_description = f\"On {entry['date']}, {entry['title']} is scheduled from {entry['time']}.\\n\"\n",
    "        text_output += event_description\n",
    "    return text_output\n",
    "\n",
    "# Convert JSON to text\n",
    "formatted_text = json_to_text(json_data)\n",
    "print(formatted_text)"
   ]
  },
  {
   "cell_type": "code",
   "execution_count": 12,
   "id": "685c6df8-dea6-4ed2-9e22-b6803955e0cd",
   "metadata": {},
   "outputs": [],
   "source": [
    "# Assuming Each Entry Should Be Treated As A Separate Document\n",
    "texts = [f\"On {entry['date']}, {entry['title']} is scheduled from {entry['time']}.\" for entry in json_data]"
   ]
  },
  {
   "cell_type": "code",
   "execution_count": 13,
   "id": "f9b2b452-d7e6-41d6-a707-eebfc57105ec",
   "metadata": {
    "tags": []
   },
   "outputs": [
    {
     "data": {
      "text/plain": [
       "['On 2023-10-01, Study Math is scheduled from 08:00-08:30.',\n",
       " 'On 2023-10-01, Study Biology is scheduled from 10:40-11:10.',\n",
       " 'On 2023-10-01, Study Physics is scheduled from 11:20-11:50.',\n",
       " 'On 2023-10-01, Study Chemistry is scheduled from 12:00-12:30.',\n",
       " 'On 2023-10-02, Study Math is scheduled from 08:00-08:30.',\n",
       " 'On 2023-10-02, Study Biology is scheduled from 08:40-09:10.',\n",
       " 'On 2023-10-02, Study Physics is scheduled from 09:20-09:50.',\n",
       " 'On 2023-10-02, Study Chemistry is scheduled from 10:00-10:30.',\n",
       " 'On 2023-10-03, Study Math is scheduled from 08:00-08:30.',\n",
       " 'On 2023-10-03, Study Biology is scheduled from 08:40-09:10.',\n",
       " 'On 2023-10-03, Study Physics is scheduled from 09:20-09:50.',\n",
       " 'On 2023-10-03, Study Chemistry is scheduled from 10:00-10:30.',\n",
       " 'On 2023-10-04, Study Math is scheduled from 08:00-08:30.',\n",
       " 'On 2023-10-04, Study Biology is scheduled from 08:40-09:10.',\n",
       " 'On 2023-10-04, Study Physics is scheduled from 09:20-09:50.',\n",
       " 'On 2023-10-04, Study Chemistry is scheduled from 11:40-12:10.',\n",
       " 'On 2023-10-05, Study Math is scheduled from 08:00-08:30.',\n",
       " 'On 2023-10-05, Study Biology is scheduled from 08:40-09:10.',\n",
       " 'On 2023-10-05, Study Physics is scheduled from 09:20-09:50.',\n",
       " 'On 2023-10-05, Study Chemistry is scheduled from 10:00-10:30.',\n",
       " 'On 2023-10-06, Study Computer Science is scheduled from 09:40-10:10.',\n",
       " 'On 2023-10-06, Study English is scheduled from 10:20-10:50.',\n",
       " 'On 2023-10-06, Study History is scheduled from 11:00-11:30.',\n",
       " 'On 2023-10-06, Study Psychology is scheduled from 11:40-12:10.',\n",
       " 'On 2023-10-07, Study Math is scheduled from 08:00-08:30.',\n",
       " 'On 2023-10-07, Study Biology is scheduled from 08:40-09:10.',\n",
       " 'On 2023-10-07, Study Physics is scheduled from 09:20-09:50.',\n",
       " 'On 2023-10-07, Study Chemistry is scheduled from 10:00-10:30.']"
      ]
     },
     "execution_count": 13,
     "metadata": {},
     "output_type": "execute_result"
    }
   ],
   "source": [
    "texts"
   ]
  },
  {
   "cell_type": "code",
   "execution_count": 14,
   "id": "2449d16e-1870-45b6-bc5c-b0e871b608c7",
   "metadata": {
    "tags": []
   },
   "outputs": [],
   "source": [
    "vector_db = Chroma.from_texts(texts, embeddings)"
   ]
  },
  {
   "cell_type": "code",
   "execution_count": 15,
   "id": "b35d2428-1b35-416f-93b4-347688653577",
   "metadata": {
    "tags": []
   },
   "outputs": [
    {
     "name": "stdout",
     "output_type": "stream",
     "text": [
      "Number of Events in Collection: 28\n"
     ]
    }
   ],
   "source": [
    "print(f'Number of Events in Collection: {vector_db._collection.count():,}')"
   ]
  },
  {
   "cell_type": "code",
   "execution_count": 16,
   "id": "90097159-fcf4-4e1b-b836-db29953ea3a2",
   "metadata": {
    "tags": []
   },
   "outputs": [],
   "source": [
    "# Expose Index to the Retriever\n",
    "retriever = vector_db.as_retriever(\n",
    "    search_type=\"similarity\", search_kwargs={\"k\": 3} #k: Number of Documents to return, defaults to 4.\n",
    ")"
   ]
  },
  {
   "cell_type": "markdown",
   "id": "5ee5148f-7234-4d3d-8f7e-03e0d43323a8",
   "metadata": {},
   "source": [
    "## LLM"
   ]
  },
  {
   "cell_type": "code",
   "execution_count": 17,
   "id": "d77e5436-2678-4304-94d3-db87954f57a7",
   "metadata": {
    "tags": []
   },
   "outputs": [],
   "source": [
    "llm = VertexAI(\n",
    "    model_name=\"text-bison-32k\",\n",
    "    max_output_tokens=256,\n",
    "    temperature=0.1,\n",
    "    top_p=0.8,\n",
    "    top_k=40,\n",
    "    verbose=True,\n",
    ")"
   ]
  },
  {
   "cell_type": "code",
   "execution_count": 18,
   "id": "4cef6734-a515-4be3-a6c1-83ed53e94831",
   "metadata": {
    "tags": []
   },
   "outputs": [],
   "source": [
    "template = \"\"\"Use the provided JSON file, which is an output of the optimization model, to answer questions about a person's calendar. If you don't know the answer, \n",
    "just say that you don't know, don't try to make up an answer. \\\n",
    "Keep the answer as concise as possible. Always say \"Nick: Please let me know what else I can help with you.\" at the end of the answer, but print this in a new line and there should be a space between the line that comes before this. \n",
    "{context}\n",
    "Question: {question}\n",
    "Helpful Answer:\"\"\"\n",
    "QA_CHAIN_PROMPT = PromptTemplate.from_template(template)"
   ]
  },
  {
   "cell_type": "code",
   "execution_count": 19,
   "id": "efe6d1a6-58ba-4ba6-89e5-0be68ae08c0d",
   "metadata": {
    "tags": []
   },
   "outputs": [],
   "source": [
    "memory = ConversationBufferMemory(\n",
    "    memory_key=\"chat_history\",\n",
    "    return_messages=True\n",
    ")"
   ]
  },
  {
   "cell_type": "code",
   "execution_count": 20,
   "id": "92646c2f-6b03-4f05-a4b5-9001ae0b74f3",
   "metadata": {
    "tags": []
   },
   "outputs": [],
   "source": [
    "# Uses LLM to Synthesize Results From the Search Index\n",
    "# Vertex PaLM Text API for LLM\n",
    "qa = RetrievalQA.from_chain_type(\n",
    "    llm=llm, \n",
    "    retriever=retriever, \n",
    "    chain_type_kwargs={\"prompt\": QA_CHAIN_PROMPT},\n",
    "    memory=memory\n",
    ")"
   ]
  },
  {
   "cell_type": "markdown",
   "id": "c1c6c0c7-01cf-44bd-a5e2-620fd6454c97",
   "metadata": {},
   "source": [
    "##### Question 1"
   ]
  },
  {
   "cell_type": "code",
   "execution_count": 21,
   "id": "398502db-8b67-4f73-aca9-854b1552b136",
   "metadata": {
    "tags": []
   },
   "outputs": [
    {
     "name": "stdout",
     "output_type": "stream",
     "text": [
      "Nick: What events do I have on 2023-10-07?\n",
      "\n",
      "Ed:  On 2023-10-07, you have the following events:\n",
      "\n",
      "- Study Math from 08:00-08:30\n",
      "- Study Physics from 09:20-09:50\n",
      "- Study Chemistry from 10:00-10:30\n",
      "\n",
      "Nick: Please let me know what else I can help with you.\n",
      "\n"
     ]
    }
   ],
   "source": [
    "question = \"What events do I have on 2023-10-07?\"\n",
    "user_input = {\"query\": question}\n",
    "response = qa(user_input)\n",
    "\n",
    "print(f\"Nick: {response['query']}\\n\")\n",
    "print(f\"Ed: {response['result']}\\n\")"
   ]
  },
  {
   "cell_type": "code",
   "execution_count": 22,
   "id": "83cb4fbf-fa0f-4d25-affd-f72b0cb5d492",
   "metadata": {
    "tags": []
   },
   "outputs": [
    {
     "name": "stdout",
     "output_type": "stream",
     "text": [
      "[HumanMessage(content='What events do I have on 2023-10-07?'), AIMessage(content=' On 2023-10-07, you have the following events:\\n\\n- Study Math from 08:00-08:30\\n- Study Physics from 09:20-09:50\\n- Study Chemistry from 10:00-10:30\\n\\nNick: Please let me know what else I can help with you.')]\n",
      "\n"
     ]
    }
   ],
   "source": [
    "print(f\"{response['chat_history']}\\n\")"
   ]
  },
  {
   "cell_type": "markdown",
   "id": "becb50b4-e3a9-427f-abe6-2238df90e10e",
   "metadata": {},
   "source": [
    "##### Question 2"
   ]
  },
  {
   "cell_type": "code",
   "execution_count": 23,
   "id": "4b3ffe64-cd6b-495c-8b32-c3dc86473743",
   "metadata": {},
   "outputs": [
    {
     "name": "stdout",
     "output_type": "stream",
     "text": [
      "Nick: What about on 2023-10-06?\n",
      "\n",
      "Ed:  On 2023-10-06, Study Computer Science is scheduled from 09:40-10:10.\n",
      "On 2023-10-06, Study English is scheduled from 10:20-10:50.\n",
      "\n",
      "Nick: Please let me know what else I can help with you.\n",
      "\n"
     ]
    }
   ],
   "source": [
    "question = \"What about on 2023-10-06?\"\n",
    "user_input = {\"query\": question}\n",
    "response = qa(user_input)\n",
    "\n",
    "print(f\"Nick: {response['query']}\\n\")\n",
    "print(f\"Ed: {response['result']}\\n\")"
   ]
  },
  {
   "cell_type": "code",
   "execution_count": 24,
   "id": "09f42311-96ba-4b29-9152-5bf5f064d40b",
   "metadata": {},
   "outputs": [
    {
     "name": "stdout",
     "output_type": "stream",
     "text": [
      "[HumanMessage(content='What events do I have on 2023-10-07?'), AIMessage(content=' On 2023-10-07, you have the following events:\\n\\n- Study Math from 08:00-08:30\\n- Study Physics from 09:20-09:50\\n- Study Chemistry from 10:00-10:30\\n\\nNick: Please let me know what else I can help with you.'), HumanMessage(content='What about on 2023-10-06?'), AIMessage(content=' On 2023-10-06, Study Computer Science is scheduled from 09:40-10:10.\\nOn 2023-10-06, Study English is scheduled from 10:20-10:50.\\n\\nNick: Please let me know what else I can help with you.')]\n",
      "\n"
     ]
    }
   ],
   "source": [
    "print(f\"{response['chat_history']}\\n\")"
   ]
  },
  {
   "cell_type": "markdown",
   "id": "796d5cd7-63dd-477c-871c-2f726ff13cb1",
   "metadata": {},
   "source": [
    "##### Question 3"
   ]
  },
  {
   "cell_type": "code",
   "execution_count": 25,
   "id": "d4abd1a0-8ac6-4165-b802-efe34eee7e29",
   "metadata": {
    "tags": []
   },
   "outputs": [
    {
     "name": "stdout",
     "output_type": "stream",
     "text": [
      "Nick: Today is 2023-10-06. What do I have tomorrow?\n",
      "\n",
      "Ed:  On 2023-10-07, you have Study Math from 08:00-08:30.\n",
      "Nick: Please let me know what else I can help with you.\n",
      "\n"
     ]
    }
   ],
   "source": [
    "question = \"Today is 2023-10-06. What do I have tomorrow?\"\n",
    "user_input = {\"query\": question}\n",
    "response = qa(user_input)\n",
    "\n",
    "print(f\"Nick: {response['query']}\\n\")\n",
    "print(f\"Ed: {response['result']}\\n\")"
   ]
  },
  {
   "cell_type": "code",
   "execution_count": 26,
   "id": "e1cafb6e-1e71-42d0-988b-9cd23b5a4d84",
   "metadata": {},
   "outputs": [
    {
     "name": "stdout",
     "output_type": "stream",
     "text": [
      "[HumanMessage(content='What events do I have on 2023-10-07?'), AIMessage(content=' On 2023-10-07, you have the following events:\\n\\n- Study Math from 08:00-08:30\\n- Study Physics from 09:20-09:50\\n- Study Chemistry from 10:00-10:30\\n\\nNick: Please let me know what else I can help with you.'), HumanMessage(content='What about on 2023-10-06?'), AIMessage(content=' On 2023-10-06, Study Computer Science is scheduled from 09:40-10:10.\\nOn 2023-10-06, Study English is scheduled from 10:20-10:50.\\n\\nNick: Please let me know what else I can help with you.'), HumanMessage(content='Today is 2023-10-06. What do I have tomorrow?'), AIMessage(content=' On 2023-10-07, you have Study Math from 08:00-08:30.\\nNick: Please let me know what else I can help with you.')]\n",
      "\n"
     ]
    }
   ],
   "source": [
    "print(f\"{response['chat_history']}\\n\")"
   ]
  },
  {
   "cell_type": "markdown",
   "id": "8aa8d789-9ec1-4ea3-9ad2-b8cf825bb319",
   "metadata": {},
   "source": [
    "## Memory"
   ]
  },
  {
   "cell_type": "code",
   "execution_count": 27,
   "id": "ee9e70c3-281e-411f-9a6a-6cecc7150aec",
   "metadata": {},
   "outputs": [
    {
     "data": {
      "text/plain": [
       "{'chat_history': [HumanMessage(content='What events do I have on 2023-10-07?'),\n",
       "  AIMessage(content=' On 2023-10-07, you have the following events:\\n\\n- Study Math from 08:00-08:30\\n- Study Physics from 09:20-09:50\\n- Study Chemistry from 10:00-10:30\\n\\nNick: Please let me know what else I can help with you.'),\n",
       "  HumanMessage(content='What about on 2023-10-06?'),\n",
       "  AIMessage(content=' On 2023-10-06, Study Computer Science is scheduled from 09:40-10:10.\\nOn 2023-10-06, Study English is scheduled from 10:20-10:50.\\n\\nNick: Please let me know what else I can help with you.'),\n",
       "  HumanMessage(content='Today is 2023-10-06. What do I have tomorrow?'),\n",
       "  AIMessage(content=' On 2023-10-07, you have Study Math from 08:00-08:30.\\nNick: Please let me know what else I can help with you.')]}"
      ]
     },
     "execution_count": 27,
     "metadata": {},
     "output_type": "execute_result"
    }
   ],
   "source": [
    "memory.load_memory_variables({})"
   ]
  },
  {
   "cell_type": "code",
   "execution_count": 28,
   "id": "d7b4e2a8-2454-42c1-8a22-e6e0a87e66dc",
   "metadata": {
    "tags": []
   },
   "outputs": [
    {
     "data": {
      "text/html": [
       "<div>\n",
       "<style scoped>\n",
       "    .dataframe tbody tr th:only-of-type {\n",
       "        vertical-align: middle;\n",
       "    }\n",
       "\n",
       "    .dataframe tbody tr th {\n",
       "        vertical-align: top;\n",
       "    }\n",
       "\n",
       "    .dataframe thead th {\n",
       "        text-align: right;\n",
       "    }\n",
       "</style>\n",
       "<table border=\"1\" class=\"dataframe\">\n",
       "  <thead>\n",
       "    <tr style=\"text-align: right;\">\n",
       "      <th></th>\n",
       "      <th>0</th>\n",
       "      <th>1</th>\n",
       "      <th>2</th>\n",
       "      <th>3</th>\n",
       "      <th>4</th>\n",
       "      <th>5</th>\n",
       "      <th>6</th>\n",
       "      <th>7</th>\n",
       "      <th>8</th>\n",
       "      <th>9</th>\n",
       "    </tr>\n",
       "  </thead>\n",
       "  <tbody>\n",
       "    <tr>\n",
       "      <th>0</th>\n",
       "      <td>(content, What events do I have on 2023-10-07?)</td>\n",
       "      <td>(additional_kwargs, {})</td>\n",
       "      <td>(response_metadata, {})</td>\n",
       "      <td>(type, human)</td>\n",
       "      <td>(name, None)</td>\n",
       "      <td>(id, None)</td>\n",
       "      <td>(example, False)</td>\n",
       "      <td>None</td>\n",
       "      <td>None</td>\n",
       "      <td>None</td>\n",
       "    </tr>\n",
       "    <tr>\n",
       "      <th>1</th>\n",
       "      <td>(content,  On 2023-10-07, you have the following events:\\n\\n- Study Math from 08:00-08:30\\n- Study Physics from 09:2...</td>\n",
       "      <td>(additional_kwargs, {})</td>\n",
       "      <td>(response_metadata, {})</td>\n",
       "      <td>(type, ai)</td>\n",
       "      <td>(name, None)</td>\n",
       "      <td>(id, None)</td>\n",
       "      <td>(example, False)</td>\n",
       "      <td>(tool_calls, [])</td>\n",
       "      <td>(invalid_tool_calls, [])</td>\n",
       "      <td>(usage_metadata, None)</td>\n",
       "    </tr>\n",
       "    <tr>\n",
       "      <th>2</th>\n",
       "      <td>(content, What about on 2023-10-06?)</td>\n",
       "      <td>(additional_kwargs, {})</td>\n",
       "      <td>(response_metadata, {})</td>\n",
       "      <td>(type, human)</td>\n",
       "      <td>(name, None)</td>\n",
       "      <td>(id, None)</td>\n",
       "      <td>(example, False)</td>\n",
       "      <td>None</td>\n",
       "      <td>None</td>\n",
       "      <td>None</td>\n",
       "    </tr>\n",
       "    <tr>\n",
       "      <th>3</th>\n",
       "      <td>(content,  On 2023-10-06, Study Computer Science is scheduled from 09:40-10:10.\\nOn 2023-10-06, Study English is sch...</td>\n",
       "      <td>(additional_kwargs, {})</td>\n",
       "      <td>(response_metadata, {})</td>\n",
       "      <td>(type, ai)</td>\n",
       "      <td>(name, None)</td>\n",
       "      <td>(id, None)</td>\n",
       "      <td>(example, False)</td>\n",
       "      <td>(tool_calls, [])</td>\n",
       "      <td>(invalid_tool_calls, [])</td>\n",
       "      <td>(usage_metadata, None)</td>\n",
       "    </tr>\n",
       "    <tr>\n",
       "      <th>4</th>\n",
       "      <td>(content, Today is 2023-10-06. What do I have tomorrow?)</td>\n",
       "      <td>(additional_kwargs, {})</td>\n",
       "      <td>(response_metadata, {})</td>\n",
       "      <td>(type, human)</td>\n",
       "      <td>(name, None)</td>\n",
       "      <td>(id, None)</td>\n",
       "      <td>(example, False)</td>\n",
       "      <td>None</td>\n",
       "      <td>None</td>\n",
       "      <td>None</td>\n",
       "    </tr>\n",
       "    <tr>\n",
       "      <th>5</th>\n",
       "      <td>(content,  On 2023-10-07, you have Study Math from 08:00-08:30.\\nNick: Please let me know what else I can help with ...</td>\n",
       "      <td>(additional_kwargs, {})</td>\n",
       "      <td>(response_metadata, {})</td>\n",
       "      <td>(type, ai)</td>\n",
       "      <td>(name, None)</td>\n",
       "      <td>(id, None)</td>\n",
       "      <td>(example, False)</td>\n",
       "      <td>(tool_calls, [])</td>\n",
       "      <td>(invalid_tool_calls, [])</td>\n",
       "      <td>(usage_metadata, None)</td>\n",
       "    </tr>\n",
       "  </tbody>\n",
       "</table>\n",
       "</div>"
      ],
      "text/plain": [
       "                                                                                                                         0  \\\n",
       "0                                                                          (content, What events do I have on 2023-10-07?)   \n",
       "1  (content,  On 2023-10-07, you have the following events:\\n\\n- Study Math from 08:00-08:30\\n- Study Physics from 09:2...   \n",
       "2                                                                                     (content, What about on 2023-10-06?)   \n",
       "3  (content,  On 2023-10-06, Study Computer Science is scheduled from 09:40-10:10.\\nOn 2023-10-06, Study English is sch...   \n",
       "4                                                                 (content, Today is 2023-10-06. What do I have tomorrow?)   \n",
       "5  (content,  On 2023-10-07, you have Study Math from 08:00-08:30.\\nNick: Please let me know what else I can help with ...   \n",
       "\n",
       "                         1                        2              3  \\\n",
       "0  (additional_kwargs, {})  (response_metadata, {})  (type, human)   \n",
       "1  (additional_kwargs, {})  (response_metadata, {})     (type, ai)   \n",
       "2  (additional_kwargs, {})  (response_metadata, {})  (type, human)   \n",
       "3  (additional_kwargs, {})  (response_metadata, {})     (type, ai)   \n",
       "4  (additional_kwargs, {})  (response_metadata, {})  (type, human)   \n",
       "5  (additional_kwargs, {})  (response_metadata, {})     (type, ai)   \n",
       "\n",
       "              4           5                 6                 7  \\\n",
       "0  (name, None)  (id, None)  (example, False)              None   \n",
       "1  (name, None)  (id, None)  (example, False)  (tool_calls, [])   \n",
       "2  (name, None)  (id, None)  (example, False)              None   \n",
       "3  (name, None)  (id, None)  (example, False)  (tool_calls, [])   \n",
       "4  (name, None)  (id, None)  (example, False)              None   \n",
       "5  (name, None)  (id, None)  (example, False)  (tool_calls, [])   \n",
       "\n",
       "                          8                       9  \n",
       "0                      None                    None  \n",
       "1  (invalid_tool_calls, [])  (usage_metadata, None)  \n",
       "2                      None                    None  \n",
       "3  (invalid_tool_calls, [])  (usage_metadata, None)  \n",
       "4                      None                    None  \n",
       "5  (invalid_tool_calls, [])  (usage_metadata, None)  "
      ]
     },
     "metadata": {},
     "output_type": "display_data"
    }
   ],
   "source": [
    "display(pd.DataFrame(memory.load_memory_variables({})[\"chat_history\"]))"
   ]
  }
 ],
 "metadata": {
  "environment": {
   "kernel": "python3",
   "name": "tf2-cpu.2-11.m119",
   "type": "gcloud",
   "uri": "us-docker.pkg.dev/deeplearning-platform-release/gcr.io/tf2-cpu.2-11:m119"
  },
  "kernelspec": {
   "display_name": "Python 3",
   "language": "python",
   "name": "python3"
  },
  "language_info": {
   "codemirror_mode": {
    "name": "ipython",
    "version": 3
   },
   "file_extension": ".py",
   "mimetype": "text/x-python",
   "name": "python",
   "nbconvert_exporter": "python",
   "pygments_lexer": "ipython3",
   "version": "3.10.14"
  }
 },
 "nbformat": 4,
 "nbformat_minor": 5
}
