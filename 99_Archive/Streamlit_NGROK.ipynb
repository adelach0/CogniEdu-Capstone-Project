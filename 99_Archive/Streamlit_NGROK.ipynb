{
 "cells": [
  {
   "cell_type": "markdown",
   "id": "045f95eb-5b5e-48a8-8ba9-1d7d5bf27bac",
   "metadata": {},
   "source": [
    "# Streamlit - NGROK"
   ]
  },
  {
   "cell_type": "markdown",
   "id": "0db67a17-8a66-43c5-bfce-182728665248",
   "metadata": {
    "tags": []
   },
   "source": [
    "### Libraries"
   ]
  },
  {
   "cell_type": "code",
   "execution_count": null,
   "id": "968a5fc3-5f61-4ef2-ae0d-69365692fc07",
   "metadata": {},
   "outputs": [],
   "source": [
    "import subprocess\n",
    "import time\n",
    "import IPython"
   ]
  },
  {
   "cell_type": "markdown",
   "id": "71c2b1b4-a306-46f8-a257-e432fbb57d83",
   "metadata": {},
   "source": [
    "### Run Streamlit"
   ]
  },
  {
   "cell_type": "code",
   "execution_count": null,
   "id": "21f05380-035b-41e4-90fc-8842cc113c69",
   "metadata": {
    "tags": []
   },
   "outputs": [],
   "source": [
    "# Start the Streamlit App\n",
    "process = subprocess.Popen([\"streamlit\", \"run\", \"app.py\"])\n",
    "\n",
    "# Wait for App to Start\n",
    "time.sleep(5)\n",
    "\n",
    "# Get the Streamlit URL\n",
    "!streamlit config show | grep \"Local URL\"\n",
    "\n",
    "# Keep the Notebook Running\n",
    "IPython.display.display(IPython.display.Javascript('''\n",
    "    function KeepAlive() {\n",
    "        setTimeout(function() {\n",
    "            console.log(\"Keeping notebook alive\");\n",
    "            IPython.notebook.kernel.execute(\"print('Keeping notebook alive')\");\n",
    "            KeepAlive();\n",
    "        }, 60000);\n",
    "    }\n",
    "    KeepAlive();\n",
    "'''))\n",
    "\n",
    "# Wait for User Input to Stop the App\n",
    "input(\"Press Enter to stop the Streamlit app...\")\n",
    "\n",
    "# Stop the Streamlit App\n",
    "process.terminate()"
   ]
  },
  {
   "cell_type": "code",
   "execution_count": null,
   "id": "755f24fa-c0d3-4e45-bc66-2e25fece72b4",
   "metadata": {
    "tags": []
   },
   "outputs": [],
   "source": [
    "!streamlit run app.py --server.address='' --server.port=''"
   ]
  }
 ],
 "metadata": {
  "environment": {
   "kernel": "python3",
   "name": "tf2-cpu.2-11.m119",
   "type": "gcloud",
   "uri": "us-docker.pkg.dev/deeplearning-platform-release/gcr.io/tf2-cpu.2-11:m119"
  },
  "kernelspec": {
   "display_name": "Python 3",
   "language": "python",
   "name": "python3"
  },
  "language_info": {
   "codemirror_mode": {
    "name": "ipython",
    "version": 3
   },
   "file_extension": ".py",
   "mimetype": "text/x-python",
   "name": "python",
   "nbconvert_exporter": "python",
   "pygments_lexer": "ipython3",
   "version": "3.10.14"
  }
 },
 "nbformat": 4,
 "nbformat_minor": 5
}
